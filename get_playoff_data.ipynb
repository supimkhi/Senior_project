{
 "cells": [
  {
   "cell_type": "code",
   "execution_count": 29,
   "metadata": {},
   "outputs": [],
   "source": [
    "import os\n",
    "from bs4 import BeautifulSoup\n",
    "from playwright.async_api import async_playwright, TimeoutError as PlaywrightTimeout\n",
    "import time"
   ]
  },
  {
   "cell_type": "code",
   "execution_count": 30,
   "metadata": {},
   "outputs": [],
   "source": [
    "SEASONS = list(range(1997, 2023))"
   ]
  },
  {
   "cell_type": "code",
   "execution_count": 31,
   "metadata": {},
   "outputs": [],
   "source": [
    "P_DATA_DIR = \"Playoff_DATA\"\n",
    "P_STANDINGS_DIR = os.path.join(P_DATA_DIR, \"p_standings\")\n",
    "#PLAYOFFS_DIR = os.path.join(DATA_DIR, \"playoffs\")\n",
    "P_SCORES_DIR = os.path.join(P_DATA_DIR, \"p_scores\")"
   ]
  },
  {
   "cell_type": "code",
   "execution_count": 32,
   "metadata": {},
   "outputs": [],
   "source": [
    "#get html function\n",
    "async def get_html(url, selector, sleep=5, retries=3):\n",
    "    html = None\n",
    "    for i in range(1, retries+1):\n",
    "        time.sleep(sleep * i)\n",
    "\n",
    "        try:\n",
    "            async with async_playwright() as p:\n",
    "                browser = await p.firefox.launch()\n",
    "                page = await browser.new_page()\n",
    "                await page.goto(url)\n",
    "                print(await page.title())\n",
    "                html = await page.inner_html(selector)\n",
    "        except PlaywrightTimeout:\n",
    "            print(f\"Timeout on {url}\")\n",
    "            continue\n",
    "        else:\n",
    "            break\n",
    "    return html\n",
    "    "
   ]
  },
  {
   "cell_type": "code",
   "execution_count": 36,
   "metadata": {},
   "outputs": [],
   "source": [
    "# this function will scrape the playoff standings for each season\n",
    "async def p_scrape_season(season):\n",
    "    url = f\"https://www.basketball-reference.com/playoffs/NBA_{season}_games.html\"\n",
    "    html = await get_html(url, \"#info .button2.next\")\n",
    "\n",
    "    soup = BeautifulSoup(html)\n",
    "    links = soup.find_all(\"a\")\n",
    "    href = [l[\"href\"] for l in links]\n",
    "    p_standings_pages = [f\"https://www.basketball-reference.com{l}\" for l in href ]\n",
    "\n",
    "    for url in p_standings_pages:\n",
    "        save_path = os.path.join(P_STANDINGS_DIR, url.split(\"/\")[-1])\n",
    "        if os.path.exists(save_path):\n",
    "            continue\n",
    "\n",
    "        html = await get_html(url, \"#schedule\")\n",
    "        with open(save_path, \"w+\") as f:\n",
    "            f.write(html)"
   ]
  },
  {
   "cell_type": "code",
   "execution_count": 37,
   "metadata": {},
   "outputs": [
    {
     "name": "stdout",
     "output_type": "stream",
     "text": [
      "1997 NBA Playoffs Schedule and Results | Basketball-Reference.com\n",
      "1998 NBA Playoffs Schedule and Results | Basketball-Reference.com\n",
      "1999 NBA Playoffs Schedule and Results | Basketball-Reference.com\n",
      "2000 NBA Playoffs Schedule and Results | Basketball-Reference.com\n"
     ]
    },
    {
     "ename": "CancelledError",
     "evalue": "",
     "output_type": "error",
     "traceback": [
      "\u001b[0;31m---------------------------------------------------------------------------\u001b[0m",
      "\u001b[0;31mCancelledError\u001b[0m                            Traceback (most recent call last)",
      "Cell \u001b[0;32mIn[37], line 2\u001b[0m\n\u001b[1;32m      1\u001b[0m \u001b[39mfor\u001b[39;00m season \u001b[39min\u001b[39;00m SEASONS:\n\u001b[0;32m----> 2\u001b[0m     \u001b[39mawait\u001b[39;00m p_scrape_season(season)\n",
      "Cell \u001b[0;32mIn[36], line 3\u001b[0m, in \u001b[0;36mp_scrape_season\u001b[0;34m(season)\u001b[0m\n\u001b[1;32m      1\u001b[0m \u001b[39masync\u001b[39;00m \u001b[39mdef\u001b[39;00m \u001b[39mp_scrape_season\u001b[39m(season):\n\u001b[1;32m      2\u001b[0m     url \u001b[39m=\u001b[39m \u001b[39mf\u001b[39m\u001b[39m\"\u001b[39m\u001b[39mhttps://www.basketball-reference.com/playoffs/NBA_\u001b[39m\u001b[39m{\u001b[39;00mseason\u001b[39m}\u001b[39;00m\u001b[39m_games.html\u001b[39m\u001b[39m\"\u001b[39m\n\u001b[0;32m----> 3\u001b[0m     html \u001b[39m=\u001b[39m \u001b[39mawait\u001b[39;00m get_html(url, \u001b[39m\"\u001b[39m\u001b[39m#info .button2.next\u001b[39m\u001b[39m\"\u001b[39m)\n\u001b[1;32m      5\u001b[0m     soup \u001b[39m=\u001b[39m BeautifulSoup(html)\n\u001b[1;32m      6\u001b[0m     links \u001b[39m=\u001b[39m soup\u001b[39m.\u001b[39mfind_all(\u001b[39m\"\u001b[39m\u001b[39ma\u001b[39m\u001b[39m\"\u001b[39m)\n",
      "Cell \u001b[0;32mIn[32], line 8\u001b[0m, in \u001b[0;36mget_html\u001b[0;34m(url, selector, sleep, retries)\u001b[0m\n\u001b[1;32m      5\u001b[0m time\u001b[39m.\u001b[39msleep(sleep \u001b[39m*\u001b[39m i)\n\u001b[1;32m      7\u001b[0m \u001b[39mtry\u001b[39;00m:\n\u001b[0;32m----> 8\u001b[0m     \u001b[39masync\u001b[39;00m \u001b[39mwith\u001b[39;00m async_playwright() \u001b[39mas\u001b[39;00m p:\n\u001b[1;32m      9\u001b[0m         browser \u001b[39m=\u001b[39m \u001b[39mawait\u001b[39;00m p\u001b[39m.\u001b[39mfirefox\u001b[39m.\u001b[39mlaunch()\n\u001b[1;32m     10\u001b[0m         page \u001b[39m=\u001b[39m \u001b[39mawait\u001b[39;00m browser\u001b[39m.\u001b[39mnew_page()\n",
      "File \u001b[0;32m~/anaconda3/lib/python3.10/site-packages/playwright/async_api/_context_manager.py:40\u001b[0m, in \u001b[0;36mPlaywrightContextManager.__aenter__\u001b[0;34m(self)\u001b[0m\n\u001b[1;32m     37\u001b[0m loop\u001b[39m.\u001b[39mcreate_task(\u001b[39mself\u001b[39m\u001b[39m.\u001b[39m_connection\u001b[39m.\u001b[39mrun())\n\u001b[1;32m     38\u001b[0m playwright_future \u001b[39m=\u001b[39m \u001b[39mself\u001b[39m\u001b[39m.\u001b[39m_connection\u001b[39m.\u001b[39mplaywright_future\n\u001b[0;32m---> 40\u001b[0m done, _ \u001b[39m=\u001b[39m \u001b[39mawait\u001b[39;00m asyncio\u001b[39m.\u001b[39mwait(\n\u001b[1;32m     41\u001b[0m     {\u001b[39mself\u001b[39m\u001b[39m.\u001b[39m_connection\u001b[39m.\u001b[39m_transport\u001b[39m.\u001b[39mon_error_future, playwright_future},\n\u001b[1;32m     42\u001b[0m     return_when\u001b[39m=\u001b[39masyncio\u001b[39m.\u001b[39mFIRST_COMPLETED,\n\u001b[1;32m     43\u001b[0m )\n\u001b[1;32m     44\u001b[0m \u001b[39mif\u001b[39;00m \u001b[39mnot\u001b[39;00m playwright_future\u001b[39m.\u001b[39mdone():\n\u001b[1;32m     45\u001b[0m     playwright_future\u001b[39m.\u001b[39mcancel()\n",
      "File \u001b[0;32m~/anaconda3/lib/python3.10/asyncio/tasks.py:384\u001b[0m, in \u001b[0;36mwait\u001b[0;34m(fs, timeout, return_when)\u001b[0m\n\u001b[1;32m    377\u001b[0m     warnings\u001b[39m.\u001b[39mwarn(\u001b[39m\"\u001b[39m\u001b[39mThe explicit passing of coroutine objects to \u001b[39m\u001b[39m\"\u001b[39m\n\u001b[1;32m    378\u001b[0m                   \u001b[39m\"\u001b[39m\u001b[39masyncio.wait() is deprecated since Python 3.8, and \u001b[39m\u001b[39m\"\u001b[39m\n\u001b[1;32m    379\u001b[0m                   \u001b[39m\"\u001b[39m\u001b[39mscheduled for removal in Python 3.11.\u001b[39m\u001b[39m\"\u001b[39m,\n\u001b[1;32m    380\u001b[0m                   \u001b[39mDeprecationWarning\u001b[39;00m, stacklevel\u001b[39m=\u001b[39m\u001b[39m2\u001b[39m)\n\u001b[1;32m    382\u001b[0m fs \u001b[39m=\u001b[39m {ensure_future(f, loop\u001b[39m=\u001b[39mloop) \u001b[39mfor\u001b[39;00m f \u001b[39min\u001b[39;00m fs}\n\u001b[0;32m--> 384\u001b[0m \u001b[39mreturn\u001b[39;00m \u001b[39mawait\u001b[39;00m _wait(fs, timeout, return_when, loop)\n",
      "File \u001b[0;32m~/anaconda3/lib/python3.10/asyncio/tasks.py:491\u001b[0m, in \u001b[0;36m_wait\u001b[0;34m(fs, timeout, return_when, loop)\u001b[0m\n\u001b[1;32m    488\u001b[0m     f\u001b[39m.\u001b[39madd_done_callback(_on_completion)\n\u001b[1;32m    490\u001b[0m \u001b[39mtry\u001b[39;00m:\n\u001b[0;32m--> 491\u001b[0m     \u001b[39mawait\u001b[39;00m waiter\n\u001b[1;32m    492\u001b[0m \u001b[39mfinally\u001b[39;00m:\n\u001b[1;32m    493\u001b[0m     \u001b[39mif\u001b[39;00m timeout_handle \u001b[39mis\u001b[39;00m \u001b[39mnot\u001b[39;00m \u001b[39mNone\u001b[39;00m:\n",
      "\u001b[0;31mCancelledError\u001b[0m: "
     ]
    }
   ],
   "source": [
    "# this function will scrape the playoff scores for each season\n",
    "for season in SEASONS:\n",
    "    await p_scrape_season(season)"
   ]
  }
 ],
 "metadata": {
  "kernelspec": {
   "display_name": "base",
   "language": "python",
   "name": "python3"
  },
  "language_info": {
   "codemirror_mode": {
    "name": "ipython",
    "version": 3
   },
   "file_extension": ".py",
   "mimetype": "text/x-python",
   "name": "python",
   "nbconvert_exporter": "python",
   "pygments_lexer": "ipython3",
   "version": "3.10.9"
  },
  "orig_nbformat": 4
 },
 "nbformat": 4,
 "nbformat_minor": 2
}
