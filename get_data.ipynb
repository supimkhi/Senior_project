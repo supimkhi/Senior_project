{
 "cells": [
  {
   "cell_type": "code",
   "execution_count": 5,
   "metadata": {},
   "outputs": [],
   "source": [
    "import os\n",
    "from bs4 import BeautifulSoup\n",
    "from playwright.async_api import async_playwright, TimeoutError as PlaywrightTimeout\n",
    "import time"
   ]
  },
  {
   "attachments": {},
   "cell_type": "markdown",
   "metadata": {},
   "source": [
    "run this\n",
    "%pip install playwright\n",
    "once thats done run this\n",
    "!playwright"
   ]
  },
  {
   "cell_type": "code",
   "execution_count": 6,
   "metadata": {},
   "outputs": [],
   "source": [
    "SEASONS = list(range(1997, 2023))"
   ]
  },
  {
   "cell_type": "code",
   "execution_count": 7,
   "metadata": {},
   "outputs": [],
   "source": [
    "DATA_DIR = \"DATA\"\n",
    "STANDINGS_DIR = os.path.join(DATA_DIR, \"standings\")\n",
    "#PLAYOFFS_DIR = os.path.join(DATA_DIR, \"playoffs\")\n",
    "SCORES_DIR = os.path.join(DATA_DIR, \"scores\")"
   ]
  },
  {
   "cell_type": "code",
   "execution_count": 8,
   "metadata": {},
   "outputs": [],
   "source": [
    "#get html function\n",
    "async def get_html(url, selector, sleep=5, retries=3):\n",
    "    html = None\n",
    "    for i in range(1, retries+1):\n",
    "        time.sleep(sleep * i)\n",
    "\n",
    "        try:\n",
    "            async with async_playwright() as p:\n",
    "                browser = await p.firefox.launch()\n",
    "                page = await browser.new_page()\n",
    "                await page.goto(url)\n",
    "                print(await page.title())\n",
    "                html = await page.inner_html(selector)\n",
    "        except PlaywrightTimeout:\n",
    "            print(f\"Timeout on {url}\")\n",
    "            continue\n",
    "        else:\n",
    "            break\n",
    "    return html"
   ]
  },
  {
   "cell_type": "code",
   "execution_count": 9,
   "metadata": {},
   "outputs": [],
   "source": [
    "async def scrape_season(season):\n",
    "    url = f\"https://www.basketball-reference.com/leagues/NBA_{season}_games.html\"\n",
    "    html = await get_html(url, \"#content .filter\")\n",
    "\n",
    "    soup = BeautifulSoup(html)\n",
    "    links = soup.find_all(\"a\")\n",
    "    href = [l[\"href\"] for l in links]\n",
    "    standings_pages = [f\"https://basketball-reference.com{l}\" for l in href]\n",
    "    \n",
    "    #save them to the \n",
    "    #takes the last part of the url and saves it as the file name\n",
    "    for url in standings_pages:\n",
    "        save_path = os.path.join(STANDINGS_DIR, url.split(\"/\")[-1])\n",
    "        if os.path.exists(save_path):\n",
    "            continue\n",
    "\n",
    "        html = await get_html(url, \"#all_schedule\")\n",
    "        with open(save_path, \"w+\") as f:\n",
    "            f.write(html)\n"
   ]
  },
  {
   "cell_type": "code",
   "execution_count": 10,
   "metadata": {},
   "outputs": [
    {
     "name": "stdout",
     "output_type": "stream",
     "text": [
      "1996-97 NBA Schedule | Basketball-Reference.com\n",
      "1997-98 NBA Schedule | Basketball-Reference.com\n",
      "1997-98 NBA Schedule | Basketball-Reference.com\n",
      "1997-98 NBA Schedule | Basketball-Reference.com\n",
      "1997-98 NBA Schedule | Basketball-Reference.com\n",
      "1997-98 NBA Schedule | Basketball-Reference.com\n",
      "1997-98 NBA Schedule | Basketball-Reference.com\n",
      "1997-98 NBA Schedule | Basketball-Reference.com\n",
      "1997-98 NBA Schedule | Basketball-Reference.com\n"
     ]
    },
    {
     "ename": "CancelledError",
     "evalue": "",
     "output_type": "error",
     "traceback": [
      "\u001b[0;31m---------------------------------------------------------------------------\u001b[0m",
      "\u001b[0;31mCancelledError\u001b[0m                            Traceback (most recent call last)",
      "Cell \u001b[0;32mIn[10], line 2\u001b[0m\n\u001b[1;32m      1\u001b[0m \u001b[39mfor\u001b[39;00m season \u001b[39min\u001b[39;00m SEASONS:\n\u001b[0;32m----> 2\u001b[0m     \u001b[39mawait\u001b[39;00m scrape_season(season)\n",
      "Cell \u001b[0;32mIn[9], line 17\u001b[0m, in \u001b[0;36mscrape_season\u001b[0;34m(season)\u001b[0m\n\u001b[1;32m     14\u001b[0m \u001b[39mif\u001b[39;00m os\u001b[39m.\u001b[39mpath\u001b[39m.\u001b[39mexists(save_path):\n\u001b[1;32m     15\u001b[0m     \u001b[39mcontinue\u001b[39;00m\n\u001b[0;32m---> 17\u001b[0m html \u001b[39m=\u001b[39m \u001b[39mawait\u001b[39;00m get_html(url, \u001b[39m\"\u001b[39m\u001b[39m#all_schedule\u001b[39m\u001b[39m\"\u001b[39m)\n\u001b[1;32m     18\u001b[0m \u001b[39mwith\u001b[39;00m \u001b[39mopen\u001b[39m(save_path, \u001b[39m\"\u001b[39m\u001b[39mw+\u001b[39m\u001b[39m\"\u001b[39m) \u001b[39mas\u001b[39;00m f:\n\u001b[1;32m     19\u001b[0m     f\u001b[39m.\u001b[39mwrite(html)\n",
      "Cell \u001b[0;32mIn[8], line 11\u001b[0m, in \u001b[0;36mget_html\u001b[0;34m(url, selector, sleep, retries)\u001b[0m\n\u001b[1;32m      9\u001b[0m browser \u001b[39m=\u001b[39m \u001b[39mawait\u001b[39;00m p\u001b[39m.\u001b[39mfirefox\u001b[39m.\u001b[39mlaunch()\n\u001b[1;32m     10\u001b[0m page \u001b[39m=\u001b[39m \u001b[39mawait\u001b[39;00m browser\u001b[39m.\u001b[39mnew_page()\n\u001b[0;32m---> 11\u001b[0m \u001b[39mawait\u001b[39;00m page\u001b[39m.\u001b[39mgoto(url)\n\u001b[1;32m     12\u001b[0m \u001b[39mprint\u001b[39m(\u001b[39mawait\u001b[39;00m page\u001b[39m.\u001b[39mtitle())\n\u001b[1;32m     13\u001b[0m html \u001b[39m=\u001b[39m \u001b[39mawait\u001b[39;00m page\u001b[39m.\u001b[39minner_html(selector)\n",
      "File \u001b[0;32m~/anaconda3/lib/python3.10/site-packages/playwright/async_api/_generated.py:9173\u001b[0m, in \u001b[0;36mPage.goto\u001b[0;34m(self, url, timeout, wait_until, referer)\u001b[0m\n\u001b[1;32m   9112\u001b[0m \u001b[39masync\u001b[39;00m \u001b[39mdef\u001b[39;00m \u001b[39mgoto\u001b[39m(\n\u001b[1;32m   9113\u001b[0m     \u001b[39mself\u001b[39m,\n\u001b[1;32m   9114\u001b[0m     url: \u001b[39mstr\u001b[39m,\n\u001b[0;32m   (...)\u001b[0m\n\u001b[1;32m   9120\u001b[0m     referer: typing\u001b[39m.\u001b[39mOptional[\u001b[39mstr\u001b[39m] \u001b[39m=\u001b[39m \u001b[39mNone\u001b[39;00m\n\u001b[1;32m   9121\u001b[0m ) \u001b[39m-\u001b[39m\u001b[39m>\u001b[39m typing\u001b[39m.\u001b[39mOptional[\u001b[39m\"\u001b[39m\u001b[39mResponse\u001b[39m\u001b[39m\"\u001b[39m]:\n\u001b[1;32m   9122\u001b[0m     \u001b[39m\"\"\"Page.goto\u001b[39;00m\n\u001b[1;32m   9123\u001b[0m \n\u001b[1;32m   9124\u001b[0m \u001b[39m    Returns the main resource response. In case of multiple redirects, the navigation will resolve with the first\u001b[39;00m\n\u001b[0;32m   (...)\u001b[0m\n\u001b[1;32m   9169\u001b[0m \u001b[39m    Union[Response, None]\u001b[39;00m\n\u001b[1;32m   9170\u001b[0m \u001b[39m    \"\"\"\u001b[39;00m\n\u001b[1;32m   9172\u001b[0m     \u001b[39mreturn\u001b[39;00m mapping\u001b[39m.\u001b[39mfrom_impl_nullable(\n\u001b[0;32m-> 9173\u001b[0m         \u001b[39mawait\u001b[39;00m \u001b[39mself\u001b[39m\u001b[39m.\u001b[39m_impl_obj\u001b[39m.\u001b[39mgoto(\n\u001b[1;32m   9174\u001b[0m             url\u001b[39m=\u001b[39murl, timeout\u001b[39m=\u001b[39mtimeout, waitUntil\u001b[39m=\u001b[39mwait_until, referer\u001b[39m=\u001b[39mreferer\n\u001b[1;32m   9175\u001b[0m         )\n\u001b[1;32m   9176\u001b[0m     )\n",
      "File \u001b[0;32m~/anaconda3/lib/python3.10/site-packages/playwright/_impl/_page.py:495\u001b[0m, in \u001b[0;36mPage.goto\u001b[0;34m(self, url, timeout, waitUntil, referer)\u001b[0m\n\u001b[1;32m    488\u001b[0m \u001b[39masync\u001b[39;00m \u001b[39mdef\u001b[39;00m \u001b[39mgoto\u001b[39m(\n\u001b[1;32m    489\u001b[0m     \u001b[39mself\u001b[39m,\n\u001b[1;32m    490\u001b[0m     url: \u001b[39mstr\u001b[39m,\n\u001b[0;32m   (...)\u001b[0m\n\u001b[1;32m    493\u001b[0m     referer: \u001b[39mstr\u001b[39m \u001b[39m=\u001b[39m \u001b[39mNone\u001b[39;00m,\n\u001b[1;32m    494\u001b[0m ) \u001b[39m-\u001b[39m\u001b[39m>\u001b[39m Optional[Response]:\n\u001b[0;32m--> 495\u001b[0m     \u001b[39mreturn\u001b[39;00m \u001b[39mawait\u001b[39;00m \u001b[39mself\u001b[39m\u001b[39m.\u001b[39m_main_frame\u001b[39m.\u001b[39mgoto(\u001b[39m*\u001b[39m\u001b[39m*\u001b[39mlocals_to_params(\u001b[39mlocals\u001b[39m()))\n",
      "File \u001b[0;32m~/anaconda3/lib/python3.10/site-packages/playwright/_impl/_frame.py:147\u001b[0m, in \u001b[0;36mFrame.goto\u001b[0;34m(self, url, timeout, waitUntil, referer)\u001b[0m\n\u001b[1;32m    137\u001b[0m \u001b[39masync\u001b[39;00m \u001b[39mdef\u001b[39;00m \u001b[39mgoto\u001b[39m(\n\u001b[1;32m    138\u001b[0m     \u001b[39mself\u001b[39m,\n\u001b[1;32m    139\u001b[0m     url: \u001b[39mstr\u001b[39m,\n\u001b[0;32m   (...)\u001b[0m\n\u001b[1;32m    142\u001b[0m     referer: \u001b[39mstr\u001b[39m \u001b[39m=\u001b[39m \u001b[39mNone\u001b[39;00m,\n\u001b[1;32m    143\u001b[0m ) \u001b[39m-\u001b[39m\u001b[39m>\u001b[39m Optional[Response]:\n\u001b[1;32m    144\u001b[0m     \u001b[39mreturn\u001b[39;00m cast(\n\u001b[1;32m    145\u001b[0m         Optional[Response],\n\u001b[1;32m    146\u001b[0m         from_nullable_channel(\n\u001b[0;32m--> 147\u001b[0m             \u001b[39mawait\u001b[39;00m \u001b[39mself\u001b[39m\u001b[39m.\u001b[39m_channel\u001b[39m.\u001b[39msend(\u001b[39m\"\u001b[39m\u001b[39mgoto\u001b[39m\u001b[39m\"\u001b[39m, locals_to_params(\u001b[39mlocals\u001b[39m()))\n\u001b[1;32m    148\u001b[0m         ),\n\u001b[1;32m    149\u001b[0m     )\n",
      "File \u001b[0;32m~/anaconda3/lib/python3.10/site-packages/playwright/_impl/_connection.py:61\u001b[0m, in \u001b[0;36mChannel.send\u001b[0;34m(self, method, params)\u001b[0m\n\u001b[1;32m     60\u001b[0m \u001b[39masync\u001b[39;00m \u001b[39mdef\u001b[39;00m \u001b[39msend\u001b[39m(\u001b[39mself\u001b[39m, method: \u001b[39mstr\u001b[39m, params: Dict \u001b[39m=\u001b[39m \u001b[39mNone\u001b[39;00m) \u001b[39m-\u001b[39m\u001b[39m>\u001b[39m Any:\n\u001b[0;32m---> 61\u001b[0m     \u001b[39mreturn\u001b[39;00m \u001b[39mawait\u001b[39;00m \u001b[39mself\u001b[39m\u001b[39m.\u001b[39m_connection\u001b[39m.\u001b[39mwrap_api_call(\n\u001b[1;32m     62\u001b[0m         \u001b[39mlambda\u001b[39;00m: \u001b[39mself\u001b[39m\u001b[39m.\u001b[39minner_send(method, params, \u001b[39mFalse\u001b[39;00m)\n\u001b[1;32m     63\u001b[0m     )\n",
      "File \u001b[0;32m~/anaconda3/lib/python3.10/site-packages/playwright/_impl/_connection.py:461\u001b[0m, in \u001b[0;36mConnection.wrap_api_call\u001b[0;34m(self, cb, is_internal)\u001b[0m\n\u001b[1;32m    459\u001b[0m \u001b[39mself\u001b[39m\u001b[39m.\u001b[39m_api_zone\u001b[39m.\u001b[39mset(_extract_stack_trace_information_from_stack(st, is_internal))\n\u001b[1;32m    460\u001b[0m \u001b[39mtry\u001b[39;00m:\n\u001b[0;32m--> 461\u001b[0m     \u001b[39mreturn\u001b[39;00m \u001b[39mawait\u001b[39;00m cb()\n\u001b[1;32m    462\u001b[0m \u001b[39mfinally\u001b[39;00m:\n\u001b[1;32m    463\u001b[0m     \u001b[39mself\u001b[39m\u001b[39m.\u001b[39m_api_zone\u001b[39m.\u001b[39mset(\u001b[39mNone\u001b[39;00m)\n",
      "File \u001b[0;32m~/anaconda3/lib/python3.10/site-packages/playwright/_impl/_connection.py:87\u001b[0m, in \u001b[0;36mChannel.inner_send\u001b[0;34m(self, method, params, return_as_dict)\u001b[0m\n\u001b[1;32m     85\u001b[0m     \u001b[39mself\u001b[39m\u001b[39m.\u001b[39m_connection\u001b[39m.\u001b[39m_error \u001b[39m=\u001b[39m \u001b[39mNone\u001b[39;00m\n\u001b[1;32m     86\u001b[0m     \u001b[39mraise\u001b[39;00m error\n\u001b[0;32m---> 87\u001b[0m done, _ \u001b[39m=\u001b[39m \u001b[39mawait\u001b[39;00m asyncio\u001b[39m.\u001b[39mwait(\n\u001b[1;32m     88\u001b[0m     {\n\u001b[1;32m     89\u001b[0m         \u001b[39mself\u001b[39m\u001b[39m.\u001b[39m_connection\u001b[39m.\u001b[39m_transport\u001b[39m.\u001b[39mon_error_future,\n\u001b[1;32m     90\u001b[0m         callback\u001b[39m.\u001b[39mfuture,\n\u001b[1;32m     91\u001b[0m     },\n\u001b[1;32m     92\u001b[0m     return_when\u001b[39m=\u001b[39masyncio\u001b[39m.\u001b[39mFIRST_COMPLETED,\n\u001b[1;32m     93\u001b[0m )\n\u001b[1;32m     94\u001b[0m \u001b[39mif\u001b[39;00m \u001b[39mnot\u001b[39;00m callback\u001b[39m.\u001b[39mfuture\u001b[39m.\u001b[39mdone():\n\u001b[1;32m     95\u001b[0m     callback\u001b[39m.\u001b[39mfuture\u001b[39m.\u001b[39mcancel()\n",
      "File \u001b[0;32m~/anaconda3/lib/python3.10/asyncio/tasks.py:384\u001b[0m, in \u001b[0;36mwait\u001b[0;34m(fs, timeout, return_when)\u001b[0m\n\u001b[1;32m    377\u001b[0m     warnings\u001b[39m.\u001b[39mwarn(\u001b[39m\"\u001b[39m\u001b[39mThe explicit passing of coroutine objects to \u001b[39m\u001b[39m\"\u001b[39m\n\u001b[1;32m    378\u001b[0m                   \u001b[39m\"\u001b[39m\u001b[39masyncio.wait() is deprecated since Python 3.8, and \u001b[39m\u001b[39m\"\u001b[39m\n\u001b[1;32m    379\u001b[0m                   \u001b[39m\"\u001b[39m\u001b[39mscheduled for removal in Python 3.11.\u001b[39m\u001b[39m\"\u001b[39m,\n\u001b[1;32m    380\u001b[0m                   \u001b[39mDeprecationWarning\u001b[39;00m, stacklevel\u001b[39m=\u001b[39m\u001b[39m2\u001b[39m)\n\u001b[1;32m    382\u001b[0m fs \u001b[39m=\u001b[39m {ensure_future(f, loop\u001b[39m=\u001b[39mloop) \u001b[39mfor\u001b[39;00m f \u001b[39min\u001b[39;00m fs}\n\u001b[0;32m--> 384\u001b[0m \u001b[39mreturn\u001b[39;00m \u001b[39mawait\u001b[39;00m _wait(fs, timeout, return_when, loop)\n",
      "File \u001b[0;32m~/anaconda3/lib/python3.10/asyncio/tasks.py:491\u001b[0m, in \u001b[0;36m_wait\u001b[0;34m(fs, timeout, return_when, loop)\u001b[0m\n\u001b[1;32m    488\u001b[0m     f\u001b[39m.\u001b[39madd_done_callback(_on_completion)\n\u001b[1;32m    490\u001b[0m \u001b[39mtry\u001b[39;00m:\n\u001b[0;32m--> 491\u001b[0m     \u001b[39mawait\u001b[39;00m waiter\n\u001b[1;32m    492\u001b[0m \u001b[39mfinally\u001b[39;00m:\n\u001b[1;32m    493\u001b[0m     \u001b[39mif\u001b[39;00m timeout_handle \u001b[39mis\u001b[39;00m \u001b[39mnot\u001b[39;00m \u001b[39mNone\u001b[39;00m:\n",
      "\u001b[0;31mCancelledError\u001b[0m: "
     ]
    }
   ],
   "source": [
    "for season in SEASONS:\n",
    "    await scrape_season(season)"
   ]
  },
  {
   "cell_type": "code",
   "execution_count": null,
   "metadata": {},
   "outputs": [],
   "source": [
    "standings_files = os.listdir(STANDINGS_DIR)"
   ]
  },
  {
   "cell_type": "code",
   "execution_count": null,
   "metadata": {},
   "outputs": [],
   "source": [
    "standings_files"
   ]
  },
  {
   "cell_type": "code",
   "execution_count": null,
   "metadata": {},
   "outputs": [],
   "source": [
    "async def scrape_game(standings_files):\n",
    "    with open(standings_files, 'r') as f:\n",
    "        html = f.read()\n",
    "\n",
    "    soup = BeautifulSoup(html)\n",
    "    links = soup.find_all(\"a\")\n",
    "    hrefs = [l.get(\"href\") for l in links]\n",
    "    box_scores = [l for l in hrefs if l and l.startswith(\"/boxscores\")]\n",
    "    box_scores = [f\"https://basketball-reference.com{l}\" for l in box_scores]\n",
    "\n",
    "    for url in box_scores:\n",
    "        save_path = os.path.join(SCORES_DIR, url.split(\"/\")[-1])\n",
    "        if os.path.exists(save_path):\n",
    "            continue\n",
    "\n",
    "        html = await get_html(url, \"#content\")\n",
    "        with open(save_path, \"w+\") as f:\n",
    "            f.write(html)"
   ]
  },
  {
   "cell_type": "code",
   "execution_count": null,
   "metadata": {},
   "outputs": [
    {
     "ename": "NameError",
     "evalue": "name 'standings_files' is not defined",
     "output_type": "error",
     "traceback": [
      "\u001b[0;31m---------------------------------------------------------------------------\u001b[0m",
      "\u001b[0;31mNameError\u001b[0m                                 Traceback (most recent call last)",
      "Cell \u001b[0;32mIn[3], line 1\u001b[0m\n\u001b[0;32m----> 1\u001b[0m standings_files \u001b[39m=\u001b[39m [s \u001b[39mfor\u001b[39;00m s \u001b[39min\u001b[39;00m standings_files \u001b[39mif\u001b[39;00m \u001b[39m\"\u001b[39m\u001b[39mhtml\u001b[39m\u001b[39m\"\u001b[39m \u001b[39min\u001b[39;00m s]\n",
      "\u001b[0;31mNameError\u001b[0m: name 'standings_files' is not defined"
     ]
    }
   ],
   "source": [
    "standings_files = [s for s in standings_files if \"html\" in s]"
   ]
  },
  {
   "cell_type": "code",
   "execution_count": null,
   "metadata": {},
   "outputs": [],
   "source": [
    "for f in standings_files:\n",
    "    filepath = os.path.join(STANDINGS_DIR, f)\n",
    "        \n",
    "    await scrape_game(filepath)"
   ]
  },
  {
   "cell_type": "code",
   "execution_count": null,
   "metadata": {},
   "outputs": [
    {
     "ename": "NameError",
     "evalue": "name 'standings_files' is not defined",
     "output_type": "error",
     "traceback": [
      "\u001b[0;31m---------------------------------------------------------------------------\u001b[0m",
      "\u001b[0;31mNameError\u001b[0m                                 Traceback (most recent call last)",
      "Cell \u001b[0;32mIn[2], line 1\u001b[0m\n\u001b[0;32m----> 1\u001b[0m standings_files\n",
      "\u001b[0;31mNameError\u001b[0m: name 'standings_files' is not defined"
     ]
    }
   ],
   "source": [
    "standings_files"
   ]
  }
 ],
 "metadata": {
  "kernelspec": {
   "display_name": "base",
   "language": "python",
   "name": "python3"
  },
  "language_info": {
   "codemirror_mode": {
    "name": "ipython",
    "version": 3
   },
   "file_extension": ".py",
   "mimetype": "text/x-python",
   "name": "python",
   "nbconvert_exporter": "python",
   "pygments_lexer": "ipython3",
   "version": "3.10.9"
  },
  "orig_nbformat": 4
 },
 "nbformat": 4,
 "nbformat_minor": 2
}
