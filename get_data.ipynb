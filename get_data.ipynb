{
 "cells": [
  {
   "cell_type": "code",
   "execution_count": 1,
   "metadata": {},
   "outputs": [],
   "source": [
    "import os\n",
    "from bs4 import BeautifulSoup\n",
    "from playwright.async_api import async_playwright, TimeoutError as PlaywrightTimeout\n",
    "import time"
   ]
  },
  {
   "attachments": {},
   "cell_type": "markdown",
   "metadata": {},
   "source": [
    "run this\n",
    "%pip install playwright\n",
    "once thats done run this\n",
    "!playwright"
   ]
  },
  {
   "cell_type": "code",
   "execution_count": 2,
   "metadata": {},
   "outputs": [],
   "source": [
    "SEASONS = list(range(1997, 2023))"
   ]
  },
  {
   "cell_type": "code",
   "execution_count": 3,
   "metadata": {},
   "outputs": [],
   "source": [
    "DATA_DIR = \"DATA\"\n",
    "STANDINGS_DIR = os.path.join(DATA_DIR, \"standings\")\n",
    "#PLAYOFFS_DIR = os.path.join(DATA_DIR, \"playoffs\")\n",
    "SCORES_DIR = os.path.join(DATA_DIR, \"scores\")"
   ]
  },
  {
   "cell_type": "code",
   "execution_count": 4,
   "metadata": {},
   "outputs": [],
   "source": [
    "#get html function\n",
    "async def get_html(url, selector, sleep=5, retries=3):\n",
    "    html = None\n",
    "    for i in range(1, retries+1):\n",
    "        time.sleep(sleep * i)\n",
    "\n",
    "        try:\n",
    "            async with async_playwright() as p:\n",
    "                browser = await p.firefox.launch()\n",
    "                page = await browser.new_page()\n",
    "                await page.goto(url)\n",
    "                print(await page.title())\n",
    "                html = await page.inner_html(selector)\n",
    "        except PlaywrightTimeout:\n",
    "            print(f\"Timeout on {url}\")\n",
    "            continue\n",
    "        else:\n",
    "            break\n",
    "    return html"
   ]
  },
  {
   "cell_type": "code",
   "execution_count": 5,
   "metadata": {},
   "outputs": [],
   "source": [
    "async def scrape_season(season):\n",
    "    url = f\"https://www.basketball-reference.com/leagues/NBA_{season}_games.html\"\n",
    "    html = await get_html(url, \"#content .filter\")\n",
    "\n",
    "    soup = BeautifulSoup(html)\n",
    "    links = soup.find_all(\"a\")\n",
    "    href = [l[\"href\"] for l in links]\n",
    "    standings_pages = [f\"https://basketball-reference.com{l}\" for l in href]\n",
    "    \n",
    "    #save them to the \n",
    "    #takes the last part of the url and saves it as the file name\n",
    "    for url in standings_pages:\n",
    "        save_path = os.path.join(STANDINGS_DIR, url.split(\"/\")[-1])\n",
    "        if os.path.exists(save_path):\n",
    "            continue\n",
    "\n",
    "        html = await get_html(url, \"#all_schedule\")\n",
    "        with open(save_path, \"w+\") as f:\n",
    "            f.write(html)\n"
   ]
  },
  {
   "cell_type": "code",
   "execution_count": 6,
   "metadata": {},
   "outputs": [
    {
     "ename": "CancelledError",
     "evalue": "",
     "output_type": "error",
     "traceback": [
      "\u001b[0;31m---------------------------------------------------------------------------\u001b[0m",
      "\u001b[0;31mCancelledError\u001b[0m                            Traceback (most recent call last)",
      "Cell \u001b[0;32mIn[6], line 2\u001b[0m\n\u001b[1;32m      1\u001b[0m \u001b[39mfor\u001b[39;00m season \u001b[39min\u001b[39;00m SEASONS:\n\u001b[0;32m----> 2\u001b[0m     \u001b[39mawait\u001b[39;00m scrape_season(season)\n",
      "Cell \u001b[0;32mIn[5], line 3\u001b[0m, in \u001b[0;36mscrape_season\u001b[0;34m(season)\u001b[0m\n\u001b[1;32m      1\u001b[0m \u001b[39masync\u001b[39;00m \u001b[39mdef\u001b[39;00m \u001b[39mscrape_season\u001b[39m(season):\n\u001b[1;32m      2\u001b[0m     url \u001b[39m=\u001b[39m \u001b[39mf\u001b[39m\u001b[39m\"\u001b[39m\u001b[39mhttps://www.basketball-reference.com/leagues/NBA_\u001b[39m\u001b[39m{\u001b[39;00mseason\u001b[39m}\u001b[39;00m\u001b[39m_games.html\u001b[39m\u001b[39m\"\u001b[39m\n\u001b[0;32m----> 3\u001b[0m     html \u001b[39m=\u001b[39m \u001b[39mawait\u001b[39;00m get_html(url, \u001b[39m\"\u001b[39m\u001b[39m#content .filter\u001b[39m\u001b[39m\"\u001b[39m)\n\u001b[1;32m      5\u001b[0m     soup \u001b[39m=\u001b[39m BeautifulSoup(html)\n\u001b[1;32m      6\u001b[0m     links \u001b[39m=\u001b[39m soup\u001b[39m.\u001b[39mfind_all(\u001b[39m\"\u001b[39m\u001b[39ma\u001b[39m\u001b[39m\"\u001b[39m)\n",
      "Cell \u001b[0;32mIn[4], line 12\u001b[0m, in \u001b[0;36mget_html\u001b[0;34m(url, selector, sleep, retries)\u001b[0m\n\u001b[1;32m     10\u001b[0m         page \u001b[39m=\u001b[39m \u001b[39mawait\u001b[39;00m browser\u001b[39m.\u001b[39mnew_page()\n\u001b[1;32m     11\u001b[0m         \u001b[39mawait\u001b[39;00m page\u001b[39m.\u001b[39mgoto(url)\n\u001b[0;32m---> 12\u001b[0m         \u001b[39mprint\u001b[39m(\u001b[39mawait\u001b[39;00m page\u001b[39m.\u001b[39mtitle())\n\u001b[1;32m     13\u001b[0m         html \u001b[39m=\u001b[39m \u001b[39mawait\u001b[39;00m page\u001b[39m.\u001b[39minner_html(selector)\n\u001b[1;32m     14\u001b[0m \u001b[39mexcept\u001b[39;00m PlaywrightTimeout:\n",
      "File \u001b[0;32m~/anaconda3/lib/python3.10/site-packages/playwright/async_api/_generated.py:9916\u001b[0m, in \u001b[0;36mPage.title\u001b[0;34m(self)\u001b[0m\n\u001b[1;32m   9906\u001b[0m \u001b[39masync\u001b[39;00m \u001b[39mdef\u001b[39;00m \u001b[39mtitle\u001b[39m(\u001b[39mself\u001b[39m) \u001b[39m-\u001b[39m\u001b[39m>\u001b[39m \u001b[39mstr\u001b[39m:\n\u001b[1;32m   9907\u001b[0m     \u001b[39m\"\"\"Page.title\u001b[39;00m\n\u001b[1;32m   9908\u001b[0m \n\u001b[1;32m   9909\u001b[0m \u001b[39m    Returns the page's title.\u001b[39;00m\n\u001b[0;32m   (...)\u001b[0m\n\u001b[1;32m   9913\u001b[0m \u001b[39m    str\u001b[39;00m\n\u001b[1;32m   9914\u001b[0m \u001b[39m    \"\"\"\u001b[39;00m\n\u001b[0;32m-> 9916\u001b[0m     \u001b[39mreturn\u001b[39;00m mapping\u001b[39m.\u001b[39mfrom_maybe_impl(\u001b[39mawait\u001b[39;00m \u001b[39mself\u001b[39m\u001b[39m.\u001b[39m_impl_obj\u001b[39m.\u001b[39mtitle())\n",
      "File \u001b[0;32m~/anaconda3/lib/python3.10/site-packages/playwright/_impl/_page.py:684\u001b[0m, in \u001b[0;36mPage.title\u001b[0;34m(self)\u001b[0m\n\u001b[1;32m    683\u001b[0m \u001b[39masync\u001b[39;00m \u001b[39mdef\u001b[39;00m \u001b[39mtitle\u001b[39m(\u001b[39mself\u001b[39m) \u001b[39m-\u001b[39m\u001b[39m>\u001b[39m \u001b[39mstr\u001b[39m:\n\u001b[0;32m--> 684\u001b[0m     \u001b[39mreturn\u001b[39;00m \u001b[39mawait\u001b[39;00m \u001b[39mself\u001b[39m\u001b[39m.\u001b[39m_main_frame\u001b[39m.\u001b[39mtitle()\n",
      "File \u001b[0;32m~/anaconda3/lib/python3.10/site-packages/playwright/_impl/_frame.py:766\u001b[0m, in \u001b[0;36mFrame.title\u001b[0;34m(self)\u001b[0m\n\u001b[1;32m    765\u001b[0m \u001b[39masync\u001b[39;00m \u001b[39mdef\u001b[39;00m \u001b[39mtitle\u001b[39m(\u001b[39mself\u001b[39m) \u001b[39m-\u001b[39m\u001b[39m>\u001b[39m \u001b[39mstr\u001b[39m:\n\u001b[0;32m--> 766\u001b[0m     \u001b[39mreturn\u001b[39;00m \u001b[39mawait\u001b[39;00m \u001b[39mself\u001b[39m\u001b[39m.\u001b[39m_channel\u001b[39m.\u001b[39msend(\u001b[39m\"\u001b[39m\u001b[39mtitle\u001b[39m\u001b[39m\"\u001b[39m)\n",
      "File \u001b[0;32m~/anaconda3/lib/python3.10/site-packages/playwright/_impl/_connection.py:61\u001b[0m, in \u001b[0;36mChannel.send\u001b[0;34m(self, method, params)\u001b[0m\n\u001b[1;32m     60\u001b[0m \u001b[39masync\u001b[39;00m \u001b[39mdef\u001b[39;00m \u001b[39msend\u001b[39m(\u001b[39mself\u001b[39m, method: \u001b[39mstr\u001b[39m, params: Dict \u001b[39m=\u001b[39m \u001b[39mNone\u001b[39;00m) \u001b[39m-\u001b[39m\u001b[39m>\u001b[39m Any:\n\u001b[0;32m---> 61\u001b[0m     \u001b[39mreturn\u001b[39;00m \u001b[39mawait\u001b[39;00m \u001b[39mself\u001b[39m\u001b[39m.\u001b[39m_connection\u001b[39m.\u001b[39mwrap_api_call(\n\u001b[1;32m     62\u001b[0m         \u001b[39mlambda\u001b[39;00m: \u001b[39mself\u001b[39m\u001b[39m.\u001b[39minner_send(method, params, \u001b[39mFalse\u001b[39;00m)\n\u001b[1;32m     63\u001b[0m     )\n",
      "File \u001b[0;32m~/anaconda3/lib/python3.10/site-packages/playwright/_impl/_connection.py:461\u001b[0m, in \u001b[0;36mConnection.wrap_api_call\u001b[0;34m(self, cb, is_internal)\u001b[0m\n\u001b[1;32m    459\u001b[0m \u001b[39mself\u001b[39m\u001b[39m.\u001b[39m_api_zone\u001b[39m.\u001b[39mset(_extract_stack_trace_information_from_stack(st, is_internal))\n\u001b[1;32m    460\u001b[0m \u001b[39mtry\u001b[39;00m:\n\u001b[0;32m--> 461\u001b[0m     \u001b[39mreturn\u001b[39;00m \u001b[39mawait\u001b[39;00m cb()\n\u001b[1;32m    462\u001b[0m \u001b[39mfinally\u001b[39;00m:\n\u001b[1;32m    463\u001b[0m     \u001b[39mself\u001b[39m\u001b[39m.\u001b[39m_api_zone\u001b[39m.\u001b[39mset(\u001b[39mNone\u001b[39;00m)\n",
      "File \u001b[0;32m~/anaconda3/lib/python3.10/site-packages/playwright/_impl/_connection.py:87\u001b[0m, in \u001b[0;36mChannel.inner_send\u001b[0;34m(self, method, params, return_as_dict)\u001b[0m\n\u001b[1;32m     85\u001b[0m     \u001b[39mself\u001b[39m\u001b[39m.\u001b[39m_connection\u001b[39m.\u001b[39m_error \u001b[39m=\u001b[39m \u001b[39mNone\u001b[39;00m\n\u001b[1;32m     86\u001b[0m     \u001b[39mraise\u001b[39;00m error\n\u001b[0;32m---> 87\u001b[0m done, _ \u001b[39m=\u001b[39m \u001b[39mawait\u001b[39;00m asyncio\u001b[39m.\u001b[39mwait(\n\u001b[1;32m     88\u001b[0m     {\n\u001b[1;32m     89\u001b[0m         \u001b[39mself\u001b[39m\u001b[39m.\u001b[39m_connection\u001b[39m.\u001b[39m_transport\u001b[39m.\u001b[39mon_error_future,\n\u001b[1;32m     90\u001b[0m         callback\u001b[39m.\u001b[39mfuture,\n\u001b[1;32m     91\u001b[0m     },\n\u001b[1;32m     92\u001b[0m     return_when\u001b[39m=\u001b[39masyncio\u001b[39m.\u001b[39mFIRST_COMPLETED,\n\u001b[1;32m     93\u001b[0m )\n\u001b[1;32m     94\u001b[0m \u001b[39mif\u001b[39;00m \u001b[39mnot\u001b[39;00m callback\u001b[39m.\u001b[39mfuture\u001b[39m.\u001b[39mdone():\n\u001b[1;32m     95\u001b[0m     callback\u001b[39m.\u001b[39mfuture\u001b[39m.\u001b[39mcancel()\n",
      "File \u001b[0;32m~/anaconda3/lib/python3.10/asyncio/tasks.py:384\u001b[0m, in \u001b[0;36mwait\u001b[0;34m(fs, timeout, return_when)\u001b[0m\n\u001b[1;32m    377\u001b[0m     warnings\u001b[39m.\u001b[39mwarn(\u001b[39m\"\u001b[39m\u001b[39mThe explicit passing of coroutine objects to \u001b[39m\u001b[39m\"\u001b[39m\n\u001b[1;32m    378\u001b[0m                   \u001b[39m\"\u001b[39m\u001b[39masyncio.wait() is deprecated since Python 3.8, and \u001b[39m\u001b[39m\"\u001b[39m\n\u001b[1;32m    379\u001b[0m                   \u001b[39m\"\u001b[39m\u001b[39mscheduled for removal in Python 3.11.\u001b[39m\u001b[39m\"\u001b[39m,\n\u001b[1;32m    380\u001b[0m                   \u001b[39mDeprecationWarning\u001b[39;00m, stacklevel\u001b[39m=\u001b[39m\u001b[39m2\u001b[39m)\n\u001b[1;32m    382\u001b[0m fs \u001b[39m=\u001b[39m {ensure_future(f, loop\u001b[39m=\u001b[39mloop) \u001b[39mfor\u001b[39;00m f \u001b[39min\u001b[39;00m fs}\n\u001b[0;32m--> 384\u001b[0m \u001b[39mreturn\u001b[39;00m \u001b[39mawait\u001b[39;00m _wait(fs, timeout, return_when, loop)\n",
      "File \u001b[0;32m~/anaconda3/lib/python3.10/asyncio/tasks.py:491\u001b[0m, in \u001b[0;36m_wait\u001b[0;34m(fs, timeout, return_when, loop)\u001b[0m\n\u001b[1;32m    488\u001b[0m     f\u001b[39m.\u001b[39madd_done_callback(_on_completion)\n\u001b[1;32m    490\u001b[0m \u001b[39mtry\u001b[39;00m:\n\u001b[0;32m--> 491\u001b[0m     \u001b[39mawait\u001b[39;00m waiter\n\u001b[1;32m    492\u001b[0m \u001b[39mfinally\u001b[39;00m:\n\u001b[1;32m    493\u001b[0m     \u001b[39mif\u001b[39;00m timeout_handle \u001b[39mis\u001b[39;00m \u001b[39mnot\u001b[39;00m \u001b[39mNone\u001b[39;00m:\n",
      "\u001b[0;31mCancelledError\u001b[0m: "
     ]
    }
   ],
   "source": [
    "for season in SEASONS:\n",
    "    await scrape_season(season)"
   ]
  },
  {
   "cell_type": "code",
   "execution_count": 7,
   "metadata": {},
   "outputs": [],
   "source": [
    "standings_files = os.listdir(STANDINGS_DIR)"
   ]
  },
  {
   "cell_type": "code",
   "execution_count": 8,
   "metadata": {},
   "outputs": [
    {
     "data": {
      "text/plain": [
       "['NBA_1997_games-april.html',\n",
       " 'NBA_1997_games-may.html',\n",
       " 'NBA_1997_games-february.html',\n",
       " 'NBA_1997_games-june.html',\n",
       " 'NBA_1997_games-january.html',\n",
       " 'NBA_1997_games-december.html',\n",
       " 'NBA_1997_games-november.html',\n",
       " 'NBA_1997_games-march.html']"
      ]
     },
     "execution_count": 8,
     "metadata": {},
     "output_type": "execute_result"
    }
   ],
   "source": [
    "standings_files"
   ]
  },
  {
   "cell_type": "code",
   "execution_count": 9,
   "metadata": {},
   "outputs": [],
   "source": [
    "async def scrape_game(standings_files):\n",
    "    with open(standings_files, 'r') as f:\n",
    "        html = f.read()\n",
    "\n",
    "    soup = BeautifulSoup(html)\n",
    "    links = soup.find_all(\"a\")\n",
    "    hrefs = [l.get(\"href\") for l in links]\n",
    "    box_scores = [l for l in hrefs if l and l.startswith(\"/boxscores\")]\n",
    "    box_scores = [f\"https://basketball-reference.com{l}\" for l in box_scores]\n",
    "\n",
    "    for url in box_scores:\n",
    "        save_path = os.path.join(SCORES_DIR, url.split(\"/\")[-1])\n",
    "        if os.path.exists(save_path):\n",
    "            continue\n",
    "\n",
    "        html = await get_html(url, \"#content\")\n",
    "        with open(save_path, \"w+\") as f:\n",
    "            f.write(html)"
   ]
  },
  {
   "cell_type": "code",
   "execution_count": 10,
   "metadata": {},
   "outputs": [],
   "source": [
    "standings_files = [s for s in standings_files if \"html\" in s]"
   ]
  },
  {
   "cell_type": "code",
   "execution_count": 11,
   "metadata": {},
   "outputs": [
    {
     "name": "stdout",
     "output_type": "stream",
     "text": [
      "Timberwolves vs Suns, April 8, 1997 | Basketball-Reference.com\n",
      "Grizzlies vs Kings, April 8, 1997 | Basketball-Reference.com\n",
      "Nuggets vs Spurs, April 8, 1997 | Basketball-Reference.com\n",
      "Bullets vs Raptors, April 8, 1997 | Basketball-Reference.com\n",
      "NBA Games Played on April 9, 1997 | Basketball-Reference.com\n",
      "Celtics vs Hornets, April 9, 1997 | Basketball-Reference.com\n",
      "Bulls vs Pacers, April 9, 1997 | Basketball-Reference.com\n",
      "Hawks vs 76ers, April 9, 1997 | Basketball-Reference.com\n",
      "Lakers vs Jazz, April 9, 1997 | Basketball-Reference.com\n",
      "NBA Games Played on April 10, 1997 | Basketball-Reference.com\n",
      "SuperSonics vs Mavericks, April 10, 1997 | Basketball-Reference.com\n",
      "Nuggets vs Warriors, April 10, 1997 | Basketball-Reference.com\n",
      "Grizzlies vs Rockets, April 10, 1997 | Basketball-Reference.com\n",
      "Timberwolves vs Clippers, April 10, 1997 | Basketball-Reference.com\n",
      "Pistons vs Heat, April 10, 1997 | Basketball-Reference.com\n",
      "Bucks vs Nets, April 10, 1997 | Basketball-Reference.com\n",
      "Bulls vs Knicks, April 10, 1997 | Basketball-Reference.com\n",
      "Suns vs Kings, April 10, 1997 | Basketball-Reference.com\n",
      "Trail Blazers vs Spurs, April 10, 1997 | Basketball-Reference.com\n",
      "Magic vs Raptors, April 10, 1997 | Basketball-Reference.com\n",
      "NBA Games Played on April 11, 1997 | Basketball-Reference.com\n",
      "Timeout on https://basketball-reference.com/boxscores/199704110BOS.html\n",
      "Cavaliers vs Celtics, April 11, 1997 | Basketball-Reference.com\n",
      "Hornets vs Pistons, April 11, 1997 | Basketball-Reference.com\n",
      "Hawks vs Pacers, April 11, 1997 | Basketball-Reference.com\n",
      "Suns vs Lakers, April 11, 1997 | Basketball-Reference.com\n",
      "76ers vs Bucks, April 11, 1997 | Basketball-Reference.com\n",
      "Warriors vs Kings, April 11, 1997 | Basketball-Reference.com\n",
      "Rockets vs Jazz, April 11, 1997 | Basketball-Reference.com\n",
      "Nets vs Bullets, April 11, 1997 | Basketball-Reference.com\n",
      "NBA Games Played on April 12, 1997 | Basketball-Reference.com\n",
      "Bullets vs Hornets, April 12, 1997 | Basketball-Reference.com\n",
      "76ers vs Cavaliers, April 12, 1997 | Basketball-Reference.com\n",
      "Grizzlies vs Mavericks, April 12, 1997 | Basketball-Reference.com\n",
      "Nuggets vs Clippers, April 12, 1997 | Basketball-Reference.com\n",
      "Knicks vs Heat, April 12, 1997 | Basketball-Reference.com\n",
      "Hawks vs Timberwolves, April 12, 1997 | Basketball-Reference.com\n",
      "Celtics vs Magic, April 12, 1997 | Basketball-Reference.com\n",
      "SuperSonics vs Spurs, April 12, 1997 | Basketball-Reference.com\n",
      "Pacers vs Raptors, April 12, 1997 | Basketball-Reference.com\n",
      "NBA Games Played on April 13, 1997 | Basketball-Reference.com\n",
      "Bulls vs Pistons, April 13, 1997 | Basketball-Reference.com\n",
      "Suns vs Warriors, April 13, 1997 | Basketball-Reference.com\n",
      "SuperSonics vs Rockets, April 13, 1997 | Basketball-Reference.com\n",
      "Jazz vs Lakers, April 13, 1997 | Basketball-Reference.com\n",
      "Nets vs Bucks, April 13, 1997 | Basketball-Reference.com\n",
      "NBA Games Played on April 14, 1997 | Basketball-Reference.com\n",
      "Cavaliers vs Hornets, April 14, 1997 | Basketball-Reference.com\n",
      "Raptors vs Bulls, April 14, 1997 | Basketball-Reference.com\n",
      "Clippers vs Mavericks, April 14, 1997 | Basketball-Reference.com\n",
      "Warriors vs Nuggets, April 14, 1997 | Basketball-Reference.com\n",
      "Knicks vs Pacers, April 14, 1997 | Basketball-Reference.com\n",
      "Timberwolves vs Heat, April 14, 1997 | Basketball-Reference.com\n",
      "Pistons vs Magic, April 14, 1997 | Basketball-Reference.com\n",
      "Bullets vs 76ers, April 14, 1997 | Basketball-Reference.com\n",
      "Spurs vs Kings, April 14, 1997 | Basketball-Reference.com\n",
      "NBA Games Played on April 15, 1997 | Basketball-Reference.com\n",
      "Nets vs Hawks, April 15, 1997 | Basketball-Reference.com\n",
      "Clippers vs Rockets, April 15, 1997 | Basketball-Reference.com\n",
      "Raptors vs Bucks, April 15, 1997 | Basketball-Reference.com\n",
      "Jazz vs Suns, April 15, 1997 | Basketball-Reference.com\n",
      "Spurs vs SuperSonics, April 15, 1997 | Basketball-Reference.com\n",
      "NBA Games Played on April 16, 1997 | Basketball-Reference.com\n",
      "Timeout on https://basketball-reference.com/boxscores/199704160BOS.html\n",
      "Hornets vs Celtics, April 16, 1997 | Basketball-Reference.com\n",
      "Timeout on https://basketball-reference.com/boxscores/199704160CLE.html\n",
      "Magic vs Cavaliers, April 16, 1997 | Basketball-Reference.com\n",
      "Bucks vs Pistons, April 16, 1997 | Basketball-Reference.com\n",
      "Bulls vs Heat, April 16, 1997 | Basketball-Reference.com\n",
      "Mavericks vs Timberwolves, April 16, 1997 | Basketball-Reference.com\n",
      "76ers vs Nets, April 16, 1997 | Basketball-Reference.com\n",
      "Hawks vs Knicks, April 16, 1997 | Basketball-Reference.com\n",
      "Nuggets vs Trail Blazers, April 16, 1997 | Basketball-Reference.com\n",
      "Pacers vs Bullets, April 16, 1997 | Basketball-Reference.com\n",
      "NBA Games Played on April 17, 1997 | Basketball-Reference.com\n",
      "SuperSonics vs Nuggets, April 17, 1997 | Basketball-Reference.com\n",
      "Kings vs Lakers, April 17, 1997 | Basketball-Reference.com\n",
      "Warriors vs Jazz, April 17, 1997 | Basketball-Reference.com\n",
      "Trail Blazers vs Grizzlies, April 17, 1997 | Basketball-Reference.com\n",
      "NBA Games Played on April 18, 1997 | Basketball-Reference.com\n",
      "Raptors vs Hornets, April 18, 1997 | Basketball-Reference.com\n",
      "Cavaliers vs Pistons, April 18, 1997 | Basketball-Reference.com\n",
      "Mavericks vs Rockets, April 18, 1997 | Basketball-Reference.com\n",
      "Lakers vs Clippers, April 18, 1997 | Basketball-Reference.com\n",
      "Nets vs Heat, April 18, 1997 | Basketball-Reference.com\n",
      "Bucks vs Timberwolves, April 18, 1997 | Basketball-Reference.com\n",
      "Pacers vs Knicks, April 18, 1997 | Basketball-Reference.com\n",
      "Celtics vs 76ers, April 18, 1997 | Basketball-Reference.com\n",
      "Suns vs Spurs, April 18, 1997 | Basketball-Reference.com\n",
      "Magic vs Bullets, April 18, 1997 | Basketball-Reference.com\n",
      "NBA Games Played on April 19, 1997 | Basketball-Reference.com\n",
      "76ers vs Hawks, April 19, 1997 | Basketball-Reference.com\n",
      "Knicks vs Bulls, April 19, 1997 | Basketball-Reference.com\n",
      "Nuggets vs Mavericks, April 19, 1997 | Basketball-Reference.com\n",
      "Kings vs Warriors, April 19, 1997 | Basketball-Reference.com\n",
      "Heat vs Magic, April 19, 1997 | Basketball-Reference.com\n",
      "Grizzlies vs Suns, April 19, 1997 | Basketball-Reference.com\n",
      "Clippers vs SuperSonics, April 19, 1997 | Basketball-Reference.com\n",
      "Timberwolves vs Jazz, April 19, 1997 | Basketball-Reference.com\n",
      "NBA Games Played on April 20, 1997 | Basketball-Reference.com\n",
      "Raptors vs Celtics, April 20, 1997 | Basketball-Reference.com\n",
      "Bullets vs Cavaliers, April 20, 1997 | Basketball-Reference.com\n",
      "Pistons vs Pacers, April 20, 1997 | Basketball-Reference.com\n",
      "Hornets vs Bucks, April 20, 1997 | Basketball-Reference.com\n",
      "Hawks vs Nets, April 20, 1997 | Basketball-Reference.com\n",
      "Lakers vs Trail Blazers, April 20, 1997 | Basketball-Reference.com\n",
      "Jazz vs Kings, April 20, 1997 | Basketball-Reference.com\n",
      "Rockets vs Spurs, April 20, 1997 | Basketball-Reference.com\n",
      "NBA Games Played on April 24, 1997 | Basketball-Reference.com\n",
      "1997 NBA Western Conference First Round Game 1: Timberwolves vs Rockets, April 24, 1997 | Basketball-Reference.com\n",
      "1997 NBA Eastern Conference First Round Game 1: Magic vs Heat, April 24, 1997 | Basketball-Reference.com\n",
      "1997 NBA Eastern Conference First Round Game 1: Hornets vs Knicks, April 24, 1997 | Basketball-Reference.com\n",
      "1997 NBA Western Conference First Round Game 1: Clippers vs Jazz, April 24, 1997 | Basketball-Reference.com\n",
      "NBA Games Played on April 25, 1997 | Basketball-Reference.com\n",
      "1997 NBA Eastern Conference First Round Game 1: Pistons vs Hawks, April 25, 1997 | Basketball-Reference.com\n",
      "Timeout on https://basketball-reference.com/boxscores/199704250CHI.html\n",
      "1997 NBA Eastern Conference First Round Game 1: Bullets vs Bulls, April 25, 1997 | Basketball-Reference.com\n"
     ]
    },
    {
     "ename": "CancelledError",
     "evalue": "",
     "output_type": "error",
     "traceback": [
      "\u001b[0;31m---------------------------------------------------------------------------\u001b[0m",
      "\u001b[0;31mCancelledError\u001b[0m                            Traceback (most recent call last)",
      "Cell \u001b[0;32mIn[11], line 4\u001b[0m\n\u001b[1;32m      1\u001b[0m \u001b[39mfor\u001b[39;00m f \u001b[39min\u001b[39;00m standings_files:\n\u001b[1;32m      2\u001b[0m     filepath \u001b[39m=\u001b[39m os\u001b[39m.\u001b[39mpath\u001b[39m.\u001b[39mjoin(STANDINGS_DIR, f)\n\u001b[0;32m----> 4\u001b[0m     \u001b[39mawait\u001b[39;00m scrape_game(filepath)\n",
      "Cell \u001b[0;32mIn[9], line 16\u001b[0m, in \u001b[0;36mscrape_game\u001b[0;34m(standings_files)\u001b[0m\n\u001b[1;32m     13\u001b[0m \u001b[39mif\u001b[39;00m os\u001b[39m.\u001b[39mpath\u001b[39m.\u001b[39mexists(save_path):\n\u001b[1;32m     14\u001b[0m     \u001b[39mcontinue\u001b[39;00m\n\u001b[0;32m---> 16\u001b[0m html \u001b[39m=\u001b[39m \u001b[39mawait\u001b[39;00m get_html(url, \u001b[39m\"\u001b[39m\u001b[39m#content\u001b[39m\u001b[39m\"\u001b[39m)\n\u001b[1;32m     17\u001b[0m \u001b[39mwith\u001b[39;00m \u001b[39mopen\u001b[39m(save_path, \u001b[39m\"\u001b[39m\u001b[39mw+\u001b[39m\u001b[39m\"\u001b[39m) \u001b[39mas\u001b[39;00m f:\n\u001b[1;32m     18\u001b[0m     f\u001b[39m.\u001b[39mwrite(html)\n",
      "Cell \u001b[0;32mIn[4], line 9\u001b[0m, in \u001b[0;36mget_html\u001b[0;34m(url, selector, sleep, retries)\u001b[0m\n\u001b[1;32m      7\u001b[0m \u001b[39mtry\u001b[39;00m:\n\u001b[1;32m      8\u001b[0m     \u001b[39masync\u001b[39;00m \u001b[39mwith\u001b[39;00m async_playwright() \u001b[39mas\u001b[39;00m p:\n\u001b[0;32m----> 9\u001b[0m         browser \u001b[39m=\u001b[39m \u001b[39mawait\u001b[39;00m p\u001b[39m.\u001b[39mfirefox\u001b[39m.\u001b[39mlaunch()\n\u001b[1;32m     10\u001b[0m         page \u001b[39m=\u001b[39m \u001b[39mawait\u001b[39;00m browser\u001b[39m.\u001b[39mnew_page()\n\u001b[1;32m     11\u001b[0m         \u001b[39mawait\u001b[39;00m page\u001b[39m.\u001b[39mgoto(url)\n",
      "File \u001b[0;32m~/anaconda3/lib/python3.10/site-packages/playwright/async_api/_generated.py:14412\u001b[0m, in \u001b[0;36mBrowserType.launch\u001b[0;34m(self, executable_path, channel, args, ignore_default_args, handle_sigint, handle_sigterm, handle_sighup, timeout, env, headless, devtools, proxy, downloads_path, slow_mo, traces_dir, chromium_sandbox, firefox_user_prefs)\u001b[0m\n\u001b[1;32m  14294\u001b[0m \u001b[39masync\u001b[39;00m \u001b[39mdef\u001b[39;00m \u001b[39mlaunch\u001b[39m(\n\u001b[1;32m  14295\u001b[0m     \u001b[39mself\u001b[39m,\n\u001b[1;32m  14296\u001b[0m     \u001b[39m*\u001b[39m,\n\u001b[0;32m   (...)\u001b[0m\n\u001b[1;32m  14317\u001b[0m     ] \u001b[39m=\u001b[39m \u001b[39mNone\u001b[39;00m\n\u001b[1;32m  14318\u001b[0m ) \u001b[39m-\u001b[39m\u001b[39m>\u001b[39m \u001b[39m\"\u001b[39m\u001b[39mBrowser\u001b[39m\u001b[39m\"\u001b[39m:\n\u001b[1;32m  14319\u001b[0m     \u001b[39m\"\"\"BrowserType.launch\u001b[39;00m\n\u001b[1;32m  14320\u001b[0m \n\u001b[1;32m  14321\u001b[0m \u001b[39m    Returns the browser instance.\u001b[39;00m\n\u001b[0;32m   (...)\u001b[0m\n\u001b[1;32m  14408\u001b[0m \u001b[39m    Browser\u001b[39;00m\n\u001b[1;32m  14409\u001b[0m \u001b[39m    \"\"\"\u001b[39;00m\n\u001b[1;32m  14411\u001b[0m     \u001b[39mreturn\u001b[39;00m mapping\u001b[39m.\u001b[39mfrom_impl(\n\u001b[0;32m> 14412\u001b[0m         \u001b[39mawait\u001b[39;00m \u001b[39mself\u001b[39m\u001b[39m.\u001b[39m_impl_obj\u001b[39m.\u001b[39mlaunch(\n\u001b[1;32m  14413\u001b[0m             executablePath\u001b[39m=\u001b[39mexecutable_path,\n\u001b[1;32m  14414\u001b[0m             channel\u001b[39m=\u001b[39mchannel,\n\u001b[1;32m  14415\u001b[0m             args\u001b[39m=\u001b[39mmapping\u001b[39m.\u001b[39mto_impl(args),\n\u001b[1;32m  14416\u001b[0m             ignoreDefaultArgs\u001b[39m=\u001b[39mmapping\u001b[39m.\u001b[39mto_impl(ignore_default_args),\n\u001b[1;32m  14417\u001b[0m             handleSIGINT\u001b[39m=\u001b[39mhandle_sigint,\n\u001b[1;32m  14418\u001b[0m             handleSIGTERM\u001b[39m=\u001b[39mhandle_sigterm,\n\u001b[1;32m  14419\u001b[0m             handleSIGHUP\u001b[39m=\u001b[39mhandle_sighup,\n\u001b[1;32m  14420\u001b[0m             timeout\u001b[39m=\u001b[39mtimeout,\n\u001b[1;32m  14421\u001b[0m             env\u001b[39m=\u001b[39mmapping\u001b[39m.\u001b[39mto_impl(env),\n\u001b[1;32m  14422\u001b[0m             headless\u001b[39m=\u001b[39mheadless,\n\u001b[1;32m  14423\u001b[0m             devtools\u001b[39m=\u001b[39mdevtools,\n\u001b[1;32m  14424\u001b[0m             proxy\u001b[39m=\u001b[39mproxy,\n\u001b[1;32m  14425\u001b[0m             downloadsPath\u001b[39m=\u001b[39mdownloads_path,\n\u001b[1;32m  14426\u001b[0m             slowMo\u001b[39m=\u001b[39mslow_mo,\n\u001b[1;32m  14427\u001b[0m             tracesDir\u001b[39m=\u001b[39mtraces_dir,\n\u001b[1;32m  14428\u001b[0m             chromiumSandbox\u001b[39m=\u001b[39mchromium_sandbox,\n\u001b[1;32m  14429\u001b[0m             firefoxUserPrefs\u001b[39m=\u001b[39mmapping\u001b[39m.\u001b[39mto_impl(firefox_user_prefs),\n\u001b[1;32m  14430\u001b[0m         )\n\u001b[1;32m  14431\u001b[0m     )\n",
      "File \u001b[0;32m~/anaconda3/lib/python3.10/site-packages/playwright/_impl/_browser_type.py:93\u001b[0m, in \u001b[0;36mBrowserType.launch\u001b[0;34m(self, executablePath, channel, args, ignoreDefaultArgs, handleSIGINT, handleSIGTERM, handleSIGHUP, timeout, env, headless, devtools, proxy, downloadsPath, slowMo, tracesDir, chromiumSandbox, firefoxUserPrefs)\u001b[0m\n\u001b[1;32m     90\u001b[0m params \u001b[39m=\u001b[39m locals_to_params(\u001b[39mlocals\u001b[39m())\n\u001b[1;32m     91\u001b[0m normalize_launch_params(params)\n\u001b[1;32m     92\u001b[0m browser \u001b[39m=\u001b[39m cast(\n\u001b[0;32m---> 93\u001b[0m     Browser, from_channel(\u001b[39mawait\u001b[39;00m \u001b[39mself\u001b[39m\u001b[39m.\u001b[39m_channel\u001b[39m.\u001b[39msend(\u001b[39m\"\u001b[39m\u001b[39mlaunch\u001b[39m\u001b[39m\"\u001b[39m, params))\n\u001b[1;32m     94\u001b[0m )\n\u001b[1;32m     95\u001b[0m \u001b[39mself\u001b[39m\u001b[39m.\u001b[39m_did_launch_browser(browser)\n\u001b[1;32m     96\u001b[0m \u001b[39mreturn\u001b[39;00m browser\n",
      "File \u001b[0;32m~/anaconda3/lib/python3.10/site-packages/playwright/_impl/_connection.py:61\u001b[0m, in \u001b[0;36mChannel.send\u001b[0;34m(self, method, params)\u001b[0m\n\u001b[1;32m     60\u001b[0m \u001b[39masync\u001b[39;00m \u001b[39mdef\u001b[39;00m \u001b[39msend\u001b[39m(\u001b[39mself\u001b[39m, method: \u001b[39mstr\u001b[39m, params: Dict \u001b[39m=\u001b[39m \u001b[39mNone\u001b[39;00m) \u001b[39m-\u001b[39m\u001b[39m>\u001b[39m Any:\n\u001b[0;32m---> 61\u001b[0m     \u001b[39mreturn\u001b[39;00m \u001b[39mawait\u001b[39;00m \u001b[39mself\u001b[39m\u001b[39m.\u001b[39m_connection\u001b[39m.\u001b[39mwrap_api_call(\n\u001b[1;32m     62\u001b[0m         \u001b[39mlambda\u001b[39;00m: \u001b[39mself\u001b[39m\u001b[39m.\u001b[39minner_send(method, params, \u001b[39mFalse\u001b[39;00m)\n\u001b[1;32m     63\u001b[0m     )\n",
      "File \u001b[0;32m~/anaconda3/lib/python3.10/site-packages/playwright/_impl/_connection.py:461\u001b[0m, in \u001b[0;36mConnection.wrap_api_call\u001b[0;34m(self, cb, is_internal)\u001b[0m\n\u001b[1;32m    459\u001b[0m \u001b[39mself\u001b[39m\u001b[39m.\u001b[39m_api_zone\u001b[39m.\u001b[39mset(_extract_stack_trace_information_from_stack(st, is_internal))\n\u001b[1;32m    460\u001b[0m \u001b[39mtry\u001b[39;00m:\n\u001b[0;32m--> 461\u001b[0m     \u001b[39mreturn\u001b[39;00m \u001b[39mawait\u001b[39;00m cb()\n\u001b[1;32m    462\u001b[0m \u001b[39mfinally\u001b[39;00m:\n\u001b[1;32m    463\u001b[0m     \u001b[39mself\u001b[39m\u001b[39m.\u001b[39m_api_zone\u001b[39m.\u001b[39mset(\u001b[39mNone\u001b[39;00m)\n",
      "File \u001b[0;32m~/anaconda3/lib/python3.10/site-packages/playwright/_impl/_connection.py:87\u001b[0m, in \u001b[0;36mChannel.inner_send\u001b[0;34m(self, method, params, return_as_dict)\u001b[0m\n\u001b[1;32m     85\u001b[0m     \u001b[39mself\u001b[39m\u001b[39m.\u001b[39m_connection\u001b[39m.\u001b[39m_error \u001b[39m=\u001b[39m \u001b[39mNone\u001b[39;00m\n\u001b[1;32m     86\u001b[0m     \u001b[39mraise\u001b[39;00m error\n\u001b[0;32m---> 87\u001b[0m done, _ \u001b[39m=\u001b[39m \u001b[39mawait\u001b[39;00m asyncio\u001b[39m.\u001b[39mwait(\n\u001b[1;32m     88\u001b[0m     {\n\u001b[1;32m     89\u001b[0m         \u001b[39mself\u001b[39m\u001b[39m.\u001b[39m_connection\u001b[39m.\u001b[39m_transport\u001b[39m.\u001b[39mon_error_future,\n\u001b[1;32m     90\u001b[0m         callback\u001b[39m.\u001b[39mfuture,\n\u001b[1;32m     91\u001b[0m     },\n\u001b[1;32m     92\u001b[0m     return_when\u001b[39m=\u001b[39masyncio\u001b[39m.\u001b[39mFIRST_COMPLETED,\n\u001b[1;32m     93\u001b[0m )\n\u001b[1;32m     94\u001b[0m \u001b[39mif\u001b[39;00m \u001b[39mnot\u001b[39;00m callback\u001b[39m.\u001b[39mfuture\u001b[39m.\u001b[39mdone():\n\u001b[1;32m     95\u001b[0m     callback\u001b[39m.\u001b[39mfuture\u001b[39m.\u001b[39mcancel()\n",
      "File \u001b[0;32m~/anaconda3/lib/python3.10/asyncio/tasks.py:384\u001b[0m, in \u001b[0;36mwait\u001b[0;34m(fs, timeout, return_when)\u001b[0m\n\u001b[1;32m    377\u001b[0m     warnings\u001b[39m.\u001b[39mwarn(\u001b[39m\"\u001b[39m\u001b[39mThe explicit passing of coroutine objects to \u001b[39m\u001b[39m\"\u001b[39m\n\u001b[1;32m    378\u001b[0m                   \u001b[39m\"\u001b[39m\u001b[39masyncio.wait() is deprecated since Python 3.8, and \u001b[39m\u001b[39m\"\u001b[39m\n\u001b[1;32m    379\u001b[0m                   \u001b[39m\"\u001b[39m\u001b[39mscheduled for removal in Python 3.11.\u001b[39m\u001b[39m\"\u001b[39m,\n\u001b[1;32m    380\u001b[0m                   \u001b[39mDeprecationWarning\u001b[39;00m, stacklevel\u001b[39m=\u001b[39m\u001b[39m2\u001b[39m)\n\u001b[1;32m    382\u001b[0m fs \u001b[39m=\u001b[39m {ensure_future(f, loop\u001b[39m=\u001b[39mloop) \u001b[39mfor\u001b[39;00m f \u001b[39min\u001b[39;00m fs}\n\u001b[0;32m--> 384\u001b[0m \u001b[39mreturn\u001b[39;00m \u001b[39mawait\u001b[39;00m _wait(fs, timeout, return_when, loop)\n",
      "File \u001b[0;32m~/anaconda3/lib/python3.10/asyncio/tasks.py:491\u001b[0m, in \u001b[0;36m_wait\u001b[0;34m(fs, timeout, return_when, loop)\u001b[0m\n\u001b[1;32m    488\u001b[0m     f\u001b[39m.\u001b[39madd_done_callback(_on_completion)\n\u001b[1;32m    490\u001b[0m \u001b[39mtry\u001b[39;00m:\n\u001b[0;32m--> 491\u001b[0m     \u001b[39mawait\u001b[39;00m waiter\n\u001b[1;32m    492\u001b[0m \u001b[39mfinally\u001b[39;00m:\n\u001b[1;32m    493\u001b[0m     \u001b[39mif\u001b[39;00m timeout_handle \u001b[39mis\u001b[39;00m \u001b[39mnot\u001b[39;00m \u001b[39mNone\u001b[39;00m:\n",
      "\u001b[0;31mCancelledError\u001b[0m: "
     ]
    }
   ],
   "source": [
    "for f in standings_files:\n",
    "    filepath = os.path.join(STANDINGS_DIR, f)\n",
    "        \n",
    "    await scrape_game(filepath)"
   ]
  },
  {
   "cell_type": "code",
   "execution_count": null,
   "metadata": {},
   "outputs": [],
   "source": [
    "standings_files"
   ]
  }
 ],
 "metadata": {
  "kernelspec": {
   "display_name": "base",
   "language": "python",
   "name": "python3"
  },
  "language_info": {
   "codemirror_mode": {
    "name": "ipython",
    "version": 3
   },
   "file_extension": ".py",
   "mimetype": "text/x-python",
   "name": "python",
   "nbconvert_exporter": "python",
   "pygments_lexer": "ipython3",
   "version": "3.10.9"
  },
  "orig_nbformat": 4
 },
 "nbformat": 4,
 "nbformat_minor": 2
}
